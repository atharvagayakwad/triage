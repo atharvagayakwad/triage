{
 "cells": [
  {
   "cell_type": "code",
   "execution_count": 219,
   "id": "9805f0e1",
   "metadata": {},
   "outputs": [],
   "source": [
    "import numpy as np\n",
    "import pandas as pd\n",
    "import matplotlib.pyplot as plt\n",
    "import seaborn as sns"
   ]
  },
  {
   "cell_type": "code",
   "execution_count": 220,
   "id": "9d7c3251",
   "metadata": {},
   "outputs": [],
   "source": [
    "df = pd.read_csv('triage1000.csv')"
   ]
  },
  {
   "cell_type": "code",
   "execution_count": 221,
   "id": "b237fc83",
   "metadata": {},
   "outputs": [
    {
     "data": {
      "text/html": [
       "<div>\n",
       "<style scoped>\n",
       "    .dataframe tbody tr th:only-of-type {\n",
       "        vertical-align: middle;\n",
       "    }\n",
       "\n",
       "    .dataframe tbody tr th {\n",
       "        vertical-align: top;\n",
       "    }\n",
       "\n",
       "    .dataframe thead th {\n",
       "        text-align: right;\n",
       "    }\n",
       "</style>\n",
       "<table border=\"1\" class=\"dataframe\">\n",
       "  <thead>\n",
       "    <tr style=\"text-align: right;\">\n",
       "      <th></th>\n",
       "      <th>Age</th>\n",
       "      <th>Gender</th>\n",
       "      <th>HBAC</th>\n",
       "      <th>Blood Pressure</th>\n",
       "      <th>Plasma Glucose</th>\n",
       "      <th>Unconscious</th>\n",
       "      <th>Pulse</th>\n",
       "      <th>Cholesterol</th>\n",
       "      <th>Voice Responsive</th>\n",
       "      <th>Pain Responsive</th>\n",
       "      <th>Airway Breathing</th>\n",
       "      <th>Triage Level</th>\n",
       "    </tr>\n",
       "  </thead>\n",
       "  <tbody>\n",
       "    <tr>\n",
       "      <th>0</th>\n",
       "      <td>25</td>\n",
       "      <td>male</td>\n",
       "      <td>5.9</td>\n",
       "      <td>120</td>\n",
       "      <td>75</td>\n",
       "      <td>1</td>\n",
       "      <td>100</td>\n",
       "      <td>75</td>\n",
       "      <td>yes</td>\n",
       "      <td>yes</td>\n",
       "      <td>yes</td>\n",
       "      <td>2</td>\n",
       "    </tr>\n",
       "    <tr>\n",
       "      <th>1</th>\n",
       "      <td>50</td>\n",
       "      <td>female</td>\n",
       "      <td>5.7</td>\n",
       "      <td>145</td>\n",
       "      <td>75</td>\n",
       "      <td>0</td>\n",
       "      <td>101</td>\n",
       "      <td>70</td>\n",
       "      <td>yes</td>\n",
       "      <td>yes</td>\n",
       "      <td>yes</td>\n",
       "      <td>3</td>\n",
       "    </tr>\n",
       "    <tr>\n",
       "      <th>2</th>\n",
       "      <td>63</td>\n",
       "      <td>male</td>\n",
       "      <td>5.8</td>\n",
       "      <td>125</td>\n",
       "      <td>89</td>\n",
       "      <td>1</td>\n",
       "      <td>110</td>\n",
       "      <td>72</td>\n",
       "      <td>yes</td>\n",
       "      <td>yes</td>\n",
       "      <td>yes</td>\n",
       "      <td>2</td>\n",
       "    </tr>\n",
       "    <tr>\n",
       "      <th>3</th>\n",
       "      <td>67</td>\n",
       "      <td>male</td>\n",
       "      <td>6.7</td>\n",
       "      <td>160</td>\n",
       "      <td>75</td>\n",
       "      <td>0</td>\n",
       "      <td>115</td>\n",
       "      <td>78</td>\n",
       "      <td>no</td>\n",
       "      <td>yes</td>\n",
       "      <td>yes</td>\n",
       "      <td>4</td>\n",
       "    </tr>\n",
       "    <tr>\n",
       "      <th>4</th>\n",
       "      <td>67</td>\n",
       "      <td>male</td>\n",
       "      <td>5.9</td>\n",
       "      <td>120</td>\n",
       "      <td>100</td>\n",
       "      <td>0</td>\n",
       "      <td>125</td>\n",
       "      <td>74</td>\n",
       "      <td>no</td>\n",
       "      <td>yes</td>\n",
       "      <td>yes</td>\n",
       "      <td>1</td>\n",
       "    </tr>\n",
       "  </tbody>\n",
       "</table>\n",
       "</div>"
      ],
      "text/plain": [
       "   Age   Gender  HBAC  Blood Pressure  Plasma Glucose  Unconscious  Pulse  \\\n",
       "0    25    male   5.9             120              75            1    100   \n",
       "1    50  female   5.7             145              75            0    101   \n",
       "2    63    male   5.8             125              89            1    110   \n",
       "3    67    male   6.7             160              75            0    115   \n",
       "4    67    male   5.9             120             100            0    125   \n",
       "\n",
       "   Cholesterol Voice Responsive Pain Responsive Airway Breathing  Triage Level  \n",
       "0           75              yes             yes              yes             2  \n",
       "1           70              yes             yes              yes             3  \n",
       "2           72              yes             yes              yes             2  \n",
       "3           78               no             yes              yes             4  \n",
       "4           74               no             yes              yes             1  "
      ]
     },
     "execution_count": 221,
     "metadata": {},
     "output_type": "execute_result"
    }
   ],
   "source": [
    "df.head()"
   ]
  },
  {
   "cell_type": "code",
   "execution_count": 222,
   "id": "ef1cb746",
   "metadata": {},
   "outputs": [
    {
     "data": {
      "text/plain": [
       "(1001, 12)"
      ]
     },
     "execution_count": 222,
     "metadata": {},
     "output_type": "execute_result"
    }
   ],
   "source": [
    "df.shape"
   ]
  },
  {
   "cell_type": "code",
   "execution_count": 223,
   "id": "2589e10e",
   "metadata": {},
   "outputs": [
    {
     "name": "stdout",
     "output_type": "stream",
     "text": [
      "<class 'pandas.core.frame.DataFrame'>\n",
      "RangeIndex: 1001 entries, 0 to 1000\n",
      "Data columns (total 12 columns):\n",
      " #   Column            Non-Null Count  Dtype  \n",
      "---  ------            --------------  -----  \n",
      " 0   Age               1001 non-null   int64  \n",
      " 1   Gender            1001 non-null   object \n",
      " 2   HBAC              1001 non-null   float64\n",
      " 3   Blood Pressure    1001 non-null   int64  \n",
      " 4   Plasma Glucose    1001 non-null   int64  \n",
      " 5   Unconscious       1001 non-null   int64  \n",
      " 6   Pulse             1001 non-null   int64  \n",
      " 7   Cholesterol       1001 non-null   int64  \n",
      " 8   Voice Responsive  1001 non-null   object \n",
      " 9   Pain Responsive   1001 non-null   object \n",
      " 10  Airway Breathing  1001 non-null   object \n",
      " 11  Triage Level      1001 non-null   int64  \n",
      "dtypes: float64(1), int64(7), object(4)\n",
      "memory usage: 94.0+ KB\n"
     ]
    }
   ],
   "source": [
    "df.info()"
   ]
  },
  {
   "cell_type": "code",
   "execution_count": 224,
   "id": "942395ce",
   "metadata": {},
   "outputs": [
    {
     "data": {
      "text/html": [
       "<div>\n",
       "<style scoped>\n",
       "    .dataframe tbody tr th:only-of-type {\n",
       "        vertical-align: middle;\n",
       "    }\n",
       "\n",
       "    .dataframe tbody tr th {\n",
       "        vertical-align: top;\n",
       "    }\n",
       "\n",
       "    .dataframe thead th {\n",
       "        text-align: right;\n",
       "    }\n",
       "</style>\n",
       "<table border=\"1\" class=\"dataframe\">\n",
       "  <thead>\n",
       "    <tr style=\"text-align: right;\">\n",
       "      <th></th>\n",
       "      <th>Age</th>\n",
       "      <th>Gender</th>\n",
       "      <th>HBAC</th>\n",
       "      <th>Blood Pressure</th>\n",
       "      <th>Plasma Glucose</th>\n",
       "      <th>Unconscious</th>\n",
       "      <th>Pulse</th>\n",
       "      <th>Cholesterol</th>\n",
       "      <th>Voice Responsive</th>\n",
       "      <th>Pain Responsive</th>\n",
       "      <th>Airway Breathing</th>\n",
       "      <th>Triage Level</th>\n",
       "    </tr>\n",
       "  </thead>\n",
       "  <tbody>\n",
       "    <tr>\n",
       "      <th>0</th>\n",
       "      <td>25</td>\n",
       "      <td>male</td>\n",
       "      <td>5.9</td>\n",
       "      <td>120</td>\n",
       "      <td>75</td>\n",
       "      <td>1</td>\n",
       "      <td>100</td>\n",
       "      <td>75</td>\n",
       "      <td>yes</td>\n",
       "      <td>yes</td>\n",
       "      <td>yes</td>\n",
       "      <td>2</td>\n",
       "    </tr>\n",
       "    <tr>\n",
       "      <th>1</th>\n",
       "      <td>50</td>\n",
       "      <td>female</td>\n",
       "      <td>5.7</td>\n",
       "      <td>145</td>\n",
       "      <td>75</td>\n",
       "      <td>0</td>\n",
       "      <td>101</td>\n",
       "      <td>70</td>\n",
       "      <td>yes</td>\n",
       "      <td>yes</td>\n",
       "      <td>yes</td>\n",
       "      <td>3</td>\n",
       "    </tr>\n",
       "    <tr>\n",
       "      <th>2</th>\n",
       "      <td>63</td>\n",
       "      <td>male</td>\n",
       "      <td>5.8</td>\n",
       "      <td>125</td>\n",
       "      <td>89</td>\n",
       "      <td>1</td>\n",
       "      <td>110</td>\n",
       "      <td>72</td>\n",
       "      <td>yes</td>\n",
       "      <td>yes</td>\n",
       "      <td>yes</td>\n",
       "      <td>2</td>\n",
       "    </tr>\n",
       "    <tr>\n",
       "      <th>3</th>\n",
       "      <td>67</td>\n",
       "      <td>male</td>\n",
       "      <td>6.7</td>\n",
       "      <td>160</td>\n",
       "      <td>75</td>\n",
       "      <td>0</td>\n",
       "      <td>115</td>\n",
       "      <td>78</td>\n",
       "      <td>no</td>\n",
       "      <td>yes</td>\n",
       "      <td>yes</td>\n",
       "      <td>4</td>\n",
       "    </tr>\n",
       "    <tr>\n",
       "      <th>4</th>\n",
       "      <td>67</td>\n",
       "      <td>male</td>\n",
       "      <td>5.9</td>\n",
       "      <td>120</td>\n",
       "      <td>100</td>\n",
       "      <td>0</td>\n",
       "      <td>125</td>\n",
       "      <td>74</td>\n",
       "      <td>no</td>\n",
       "      <td>yes</td>\n",
       "      <td>yes</td>\n",
       "      <td>1</td>\n",
       "    </tr>\n",
       "  </tbody>\n",
       "</table>\n",
       "</div>"
      ],
      "text/plain": [
       "   Age   Gender  HBAC  Blood Pressure  Plasma Glucose  Unconscious  Pulse  \\\n",
       "0    25    male   5.9             120              75            1    100   \n",
       "1    50  female   5.7             145              75            0    101   \n",
       "2    63    male   5.8             125              89            1    110   \n",
       "3    67    male   6.7             160              75            0    115   \n",
       "4    67    male   5.9             120             100            0    125   \n",
       "\n",
       "   Cholesterol Voice Responsive Pain Responsive Airway Breathing  Triage Level  \n",
       "0           75              yes             yes              yes             2  \n",
       "1           70              yes             yes              yes             3  \n",
       "2           72              yes             yes              yes             2  \n",
       "3           78               no             yes              yes             4  \n",
       "4           74               no             yes              yes             1  "
      ]
     },
     "execution_count": 224,
     "metadata": {},
     "output_type": "execute_result"
    }
   ],
   "source": [
    "df.head()"
   ]
  },
  {
   "cell_type": "code",
   "execution_count": 225,
   "id": "4e984b94",
   "metadata": {},
   "outputs": [
    {
     "name": "stdout",
     "output_type": "stream",
     "text": [
      "['yes' 'no']\n"
     ]
    }
   ],
   "source": [
    "print(df['Airway Breathing'].unique())"
   ]
  },
  {
   "cell_type": "code",
   "execution_count": 226,
   "id": "dcd3e58d",
   "metadata": {},
   "outputs": [
    {
     "name": "stdout",
     "output_type": "stream",
     "text": [
      "['yes' 'no']\n"
     ]
    }
   ],
   "source": [
    "print(df['Pain Responsive'].unique())"
   ]
  },
  {
   "cell_type": "code",
   "execution_count": 227,
   "id": "de3a7922",
   "metadata": {},
   "outputs": [
    {
     "name": "stdout",
     "output_type": "stream",
     "text": [
      "['yes' 'no']\n"
     ]
    }
   ],
   "source": [
    "print(df['Voice Responsive'].unique())"
   ]
  },
  {
   "cell_type": "code",
   "execution_count": 228,
   "id": "524ec342",
   "metadata": {},
   "outputs": [
    {
     "name": "stdout",
     "output_type": "stream",
     "text": [
      "[2 3 4 1 0]\n"
     ]
    }
   ],
   "source": [
    "print(df['Triage Level'].unique())"
   ]
  },
  {
   "cell_type": "code",
   "execution_count": 229,
   "id": "50c7f9f3",
   "metadata": {},
   "outputs": [
    {
     "data": {
      "text/html": [
       "<div>\n",
       "<style scoped>\n",
       "    .dataframe tbody tr th:only-of-type {\n",
       "        vertical-align: middle;\n",
       "    }\n",
       "\n",
       "    .dataframe tbody tr th {\n",
       "        vertical-align: top;\n",
       "    }\n",
       "\n",
       "    .dataframe thead th {\n",
       "        text-align: right;\n",
       "    }\n",
       "</style>\n",
       "<table border=\"1\" class=\"dataframe\">\n",
       "  <thead>\n",
       "    <tr style=\"text-align: right;\">\n",
       "      <th></th>\n",
       "      <th>count</th>\n",
       "      <th>mean</th>\n",
       "      <th>std</th>\n",
       "      <th>min</th>\n",
       "      <th>25%</th>\n",
       "      <th>50%</th>\n",
       "      <th>75%</th>\n",
       "      <th>max</th>\n",
       "    </tr>\n",
       "  </thead>\n",
       "  <tbody>\n",
       "    <tr>\n",
       "      <th>Age</th>\n",
       "      <td>1001.0</td>\n",
       "      <td>54.524476</td>\n",
       "      <td>8.064096</td>\n",
       "      <td>25.0</td>\n",
       "      <td>50.0</td>\n",
       "      <td>56.0</td>\n",
       "      <td>60.0</td>\n",
       "      <td>71.0</td>\n",
       "    </tr>\n",
       "    <tr>\n",
       "      <th>HBAC</th>\n",
       "      <td>1001.0</td>\n",
       "      <td>5.656843</td>\n",
       "      <td>1.131113</td>\n",
       "      <td>4.0</td>\n",
       "      <td>4.2</td>\n",
       "      <td>5.8</td>\n",
       "      <td>6.7</td>\n",
       "      <td>7.4</td>\n",
       "    </tr>\n",
       "    <tr>\n",
       "      <th>Blood Pressure</th>\n",
       "      <td>1001.0</td>\n",
       "      <td>131.833167</td>\n",
       "      <td>12.300615</td>\n",
       "      <td>105.0</td>\n",
       "      <td>120.0</td>\n",
       "      <td>130.0</td>\n",
       "      <td>140.0</td>\n",
       "      <td>160.0</td>\n",
       "    </tr>\n",
       "    <tr>\n",
       "      <th>Plasma Glucose</th>\n",
       "      <td>1001.0</td>\n",
       "      <td>97.933067</td>\n",
       "      <td>19.775098</td>\n",
       "      <td>72.0</td>\n",
       "      <td>89.0</td>\n",
       "      <td>91.0</td>\n",
       "      <td>104.0</td>\n",
       "      <td>145.0</td>\n",
       "    </tr>\n",
       "    <tr>\n",
       "      <th>Unconscious</th>\n",
       "      <td>1001.0</td>\n",
       "      <td>0.158841</td>\n",
       "      <td>0.365711</td>\n",
       "      <td>0.0</td>\n",
       "      <td>0.0</td>\n",
       "      <td>0.0</td>\n",
       "      <td>0.0</td>\n",
       "      <td>1.0</td>\n",
       "    </tr>\n",
       "    <tr>\n",
       "      <th>Pulse</th>\n",
       "      <td>1001.0</td>\n",
       "      <td>668.880120</td>\n",
       "      <td>339.796736</td>\n",
       "      <td>100.0</td>\n",
       "      <td>401.0</td>\n",
       "      <td>703.0</td>\n",
       "      <td>930.0</td>\n",
       "      <td>1231.0</td>\n",
       "    </tr>\n",
       "    <tr>\n",
       "      <th>Cholesterol</th>\n",
       "      <td>1001.0</td>\n",
       "      <td>74.390609</td>\n",
       "      <td>2.540132</td>\n",
       "      <td>70.0</td>\n",
       "      <td>72.0</td>\n",
       "      <td>74.0</td>\n",
       "      <td>75.0</td>\n",
       "      <td>81.0</td>\n",
       "    </tr>\n",
       "    <tr>\n",
       "      <th>Triage Level</th>\n",
       "      <td>1001.0</td>\n",
       "      <td>1.732268</td>\n",
       "      <td>1.476566</td>\n",
       "      <td>0.0</td>\n",
       "      <td>0.0</td>\n",
       "      <td>1.0</td>\n",
       "      <td>3.0</td>\n",
       "      <td>4.0</td>\n",
       "    </tr>\n",
       "  </tbody>\n",
       "</table>\n",
       "</div>"
      ],
      "text/plain": [
       "                 count        mean         std    min    25%    50%    75%  \\\n",
       "Age             1001.0   54.524476    8.064096   25.0   50.0   56.0   60.0   \n",
       "HBAC            1001.0    5.656843    1.131113    4.0    4.2    5.8    6.7   \n",
       "Blood Pressure  1001.0  131.833167   12.300615  105.0  120.0  130.0  140.0   \n",
       "Plasma Glucose  1001.0   97.933067   19.775098   72.0   89.0   91.0  104.0   \n",
       "Unconscious     1001.0    0.158841    0.365711    0.0    0.0    0.0    0.0   \n",
       "Pulse           1001.0  668.880120  339.796736  100.0  401.0  703.0  930.0   \n",
       "Cholesterol     1001.0   74.390609    2.540132   70.0   72.0   74.0   75.0   \n",
       "Triage Level    1001.0    1.732268    1.476566    0.0    0.0    1.0    3.0   \n",
       "\n",
       "                   max  \n",
       "Age               71.0  \n",
       "HBAC               7.4  \n",
       "Blood Pressure   160.0  \n",
       "Plasma Glucose   145.0  \n",
       "Unconscious        1.0  \n",
       "Pulse           1231.0  \n",
       "Cholesterol       81.0  \n",
       "Triage Level       4.0  "
      ]
     },
     "execution_count": 229,
     "metadata": {},
     "output_type": "execute_result"
    }
   ],
   "source": [
    "df.describe().transpose()"
   ]
  },
  {
   "cell_type": "code",
   "execution_count": 230,
   "id": "01a574fe",
   "metadata": {},
   "outputs": [
    {
     "data": {
      "text/plain": [
       "<AxesSubplot:>"
      ]
     },
     "execution_count": 230,
     "metadata": {},
     "output_type": "execute_result"
    },
    {
     "data": {
      "image/png": "[encoded data removed]",
      "text/plain": [
       "<Figure size 1600x800 with 2 Axes>"
      ]
     },
     "metadata": {
      "needs_background": "light"
     },
     "output_type": "display_data"
    }
   ],
   "source": [
    "plt.figure(figsize=(8,4), dpi=200)\n",
    "sns.heatmap(df.corr(), annot=True)"
   ]
  },
  {
   "cell_type": "code",
   "execution_count": 231,
   "id": "3abd292a",
   "metadata": {},
   "outputs": [],
   "source": [
    "df.drop('Gender', axis=1, inplace=True)"
   ]
  },
  {
   "cell_type": "code",
   "execution_count": 232,
   "id": "4f24fab7",
   "metadata": {},
   "outputs": [
    {
     "data": {
      "text/html": [
       "<div>\n",
       "<style scoped>\n",
       "    .dataframe tbody tr th:only-of-type {\n",
       "        vertical-align: middle;\n",
       "    }\n",
       "\n",
       "    .dataframe tbody tr th {\n",
       "        vertical-align: top;\n",
       "    }\n",
       "\n",
       "    .dataframe thead th {\n",
       "        text-align: right;\n",
       "    }\n",
       "</style>\n",
       "<table border=\"1\" class=\"dataframe\">\n",
       "  <thead>\n",
       "    <tr style=\"text-align: right;\">\n",
       "      <th></th>\n",
       "      <th>Age</th>\n",
       "      <th>HBAC</th>\n",
       "      <th>Blood Pressure</th>\n",
       "      <th>Plasma Glucose</th>\n",
       "      <th>Unconscious</th>\n",
       "      <th>Pulse</th>\n",
       "      <th>Cholesterol</th>\n",
       "      <th>Voice Responsive</th>\n",
       "      <th>Pain Responsive</th>\n",
       "      <th>Airway Breathing</th>\n",
       "      <th>Triage Level</th>\n",
       "    </tr>\n",
       "  </thead>\n",
       "  <tbody>\n",
       "    <tr>\n",
       "      <th>0</th>\n",
       "      <td>25</td>\n",
       "      <td>5.9</td>\n",
       "      <td>120</td>\n",
       "      <td>75</td>\n",
       "      <td>1</td>\n",
       "      <td>100</td>\n",
       "      <td>75</td>\n",
       "      <td>yes</td>\n",
       "      <td>yes</td>\n",
       "      <td>yes</td>\n",
       "      <td>2</td>\n",
       "    </tr>\n",
       "    <tr>\n",
       "      <th>1</th>\n",
       "      <td>50</td>\n",
       "      <td>5.7</td>\n",
       "      <td>145</td>\n",
       "      <td>75</td>\n",
       "      <td>0</td>\n",
       "      <td>101</td>\n",
       "      <td>70</td>\n",
       "      <td>yes</td>\n",
       "      <td>yes</td>\n",
       "      <td>yes</td>\n",
       "      <td>3</td>\n",
       "    </tr>\n",
       "    <tr>\n",
       "      <th>2</th>\n",
       "      <td>63</td>\n",
       "      <td>5.8</td>\n",
       "      <td>125</td>\n",
       "      <td>89</td>\n",
       "      <td>1</td>\n",
       "      <td>110</td>\n",
       "      <td>72</td>\n",
       "      <td>yes</td>\n",
       "      <td>yes</td>\n",
       "      <td>yes</td>\n",
       "      <td>2</td>\n",
       "    </tr>\n",
       "    <tr>\n",
       "      <th>3</th>\n",
       "      <td>67</td>\n",
       "      <td>6.7</td>\n",
       "      <td>160</td>\n",
       "      <td>75</td>\n",
       "      <td>0</td>\n",
       "      <td>115</td>\n",
       "      <td>78</td>\n",
       "      <td>no</td>\n",
       "      <td>yes</td>\n",
       "      <td>yes</td>\n",
       "      <td>4</td>\n",
       "    </tr>\n",
       "    <tr>\n",
       "      <th>4</th>\n",
       "      <td>67</td>\n",
       "      <td>5.9</td>\n",
       "      <td>120</td>\n",
       "      <td>100</td>\n",
       "      <td>0</td>\n",
       "      <td>125</td>\n",
       "      <td>74</td>\n",
       "      <td>no</td>\n",
       "      <td>yes</td>\n",
       "      <td>yes</td>\n",
       "      <td>1</td>\n",
       "    </tr>\n",
       "  </tbody>\n",
       "</table>\n",
       "</div>"
      ],
      "text/plain": [
       "   Age   HBAC  Blood Pressure  Plasma Glucose  Unconscious  Pulse  \\\n",
       "0    25   5.9             120              75            1    100   \n",
       "1    50   5.7             145              75            0    101   \n",
       "2    63   5.8             125              89            1    110   \n",
       "3    67   6.7             160              75            0    115   \n",
       "4    67   5.9             120             100            0    125   \n",
       "\n",
       "   Cholesterol Voice Responsive Pain Responsive Airway Breathing  Triage Level  \n",
       "0           75              yes             yes              yes             2  \n",
       "1           70              yes             yes              yes             3  \n",
       "2           72              yes             yes              yes             2  \n",
       "3           78               no             yes              yes             4  \n",
       "4           74               no             yes              yes             1  "
      ]
     },
     "execution_count": 232,
     "metadata": {},
     "output_type": "execute_result"
    }
   ],
   "source": [
    "df.head()"
   ]
  },
  {
   "cell_type": "code",
   "execution_count": 233,
   "id": "e4b61de9",
   "metadata": {},
   "outputs": [
    {
     "data": {
      "text/plain": [
       "False"
      ]
     },
     "execution_count": 233,
     "metadata": {},
     "output_type": "execute_result"
    }
   ],
   "source": [
    "df.isnull().sum().any()"
   ]
  },
  {
   "cell_type": "code",
   "execution_count": 234,
   "id": "95a06f9b",
   "metadata": {},
   "outputs": [
    {
     "data": {
      "text/html": [
       "<div>\n",
       "<style scoped>\n",
       "    .dataframe tbody tr th:only-of-type {\n",
       "        vertical-align: middle;\n",
       "    }\n",
       "\n",
       "    .dataframe tbody tr th {\n",
       "        vertical-align: top;\n",
       "    }\n",
       "\n",
       "    .dataframe thead th {\n",
       "        text-align: right;\n",
       "    }\n",
       "</style>\n",
       "<table border=\"1\" class=\"dataframe\">\n",
       "  <thead>\n",
       "    <tr style=\"text-align: right;\">\n",
       "      <th></th>\n",
       "      <th>Age</th>\n",
       "      <th>HBAC</th>\n",
       "      <th>Blood Pressure</th>\n",
       "      <th>Plasma Glucose</th>\n",
       "      <th>Unconscious</th>\n",
       "      <th>Pulse</th>\n",
       "      <th>Cholesterol</th>\n",
       "      <th>Voice Responsive</th>\n",
       "      <th>Pain Responsive</th>\n",
       "      <th>Airway Breathing</th>\n",
       "      <th>Triage Level</th>\n",
       "    </tr>\n",
       "  </thead>\n",
       "  <tbody>\n",
       "    <tr>\n",
       "      <th>0</th>\n",
       "      <td>25</td>\n",
       "      <td>5.9</td>\n",
       "      <td>120</td>\n",
       "      <td>75</td>\n",
       "      <td>1</td>\n",
       "      <td>100</td>\n",
       "      <td>75</td>\n",
       "      <td>yes</td>\n",
       "      <td>yes</td>\n",
       "      <td>yes</td>\n",
       "      <td>2</td>\n",
       "    </tr>\n",
       "    <tr>\n",
       "      <th>1</th>\n",
       "      <td>50</td>\n",
       "      <td>5.7</td>\n",
       "      <td>145</td>\n",
       "      <td>75</td>\n",
       "      <td>0</td>\n",
       "      <td>101</td>\n",
       "      <td>70</td>\n",
       "      <td>yes</td>\n",
       "      <td>yes</td>\n",
       "      <td>yes</td>\n",
       "      <td>3</td>\n",
       "    </tr>\n",
       "    <tr>\n",
       "      <th>2</th>\n",
       "      <td>63</td>\n",
       "      <td>5.8</td>\n",
       "      <td>125</td>\n",
       "      <td>89</td>\n",
       "      <td>1</td>\n",
       "      <td>110</td>\n",
       "      <td>72</td>\n",
       "      <td>yes</td>\n",
       "      <td>yes</td>\n",
       "      <td>yes</td>\n",
       "      <td>2</td>\n",
       "    </tr>\n",
       "    <tr>\n",
       "      <th>3</th>\n",
       "      <td>67</td>\n",
       "      <td>6.7</td>\n",
       "      <td>160</td>\n",
       "      <td>75</td>\n",
       "      <td>0</td>\n",
       "      <td>115</td>\n",
       "      <td>78</td>\n",
       "      <td>no</td>\n",
       "      <td>yes</td>\n",
       "      <td>yes</td>\n",
       "      <td>4</td>\n",
       "    </tr>\n",
       "    <tr>\n",
       "      <th>4</th>\n",
       "      <td>67</td>\n",
       "      <td>5.9</td>\n",
       "      <td>120</td>\n",
       "      <td>100</td>\n",
       "      <td>0</td>\n",
       "      <td>125</td>\n",
       "      <td>74</td>\n",
       "      <td>no</td>\n",
       "      <td>yes</td>\n",
       "      <td>yes</td>\n",
       "      <td>1</td>\n",
       "    </tr>\n",
       "  </tbody>\n",
       "</table>\n",
       "</div>"
      ],
      "text/plain": [
       "   Age   HBAC  Blood Pressure  Plasma Glucose  Unconscious  Pulse  \\\n",
       "0    25   5.9             120              75            1    100   \n",
       "1    50   5.7             145              75            0    101   \n",
       "2    63   5.8             125              89            1    110   \n",
       "3    67   6.7             160              75            0    115   \n",
       "4    67   5.9             120             100            0    125   \n",
       "\n",
       "   Cholesterol Voice Responsive Pain Responsive Airway Breathing  Triage Level  \n",
       "0           75              yes             yes              yes             2  \n",
       "1           70              yes             yes              yes             3  \n",
       "2           72              yes             yes              yes             2  \n",
       "3           78               no             yes              yes             4  \n",
       "4           74               no             yes              yes             1  "
      ]
     },
     "execution_count": 234,
     "metadata": {},
     "output_type": "execute_result"
    }
   ],
   "source": [
    "df.head()"
   ]
  },
  {
   "cell_type": "code",
   "execution_count": 235,
   "id": "2bdc5df4",
   "metadata": {},
   "outputs": [],
   "source": [
    "# df['Gender'] = df['Gender'].replace(['male'], 0)\n",
    "# df['Gender'] = df['Gender'].replace(['female'], 1)"
   ]
  },
  {
   "cell_type": "code",
   "execution_count": 236,
   "id": "346129de",
   "metadata": {},
   "outputs": [],
   "source": [
    "df['Airway Breathing'] = df['Airway Breathing'].replace(['no'], 0)\n",
    "df['Airway Breathing'] = df['Airway Breathing'].replace(['yes'], 1)"
   ]
  },
  {
   "cell_type": "code",
   "execution_count": 237,
   "id": "e3153f03",
   "metadata": {},
   "outputs": [],
   "source": [
    "df['Voice Responsive'] = df['Voice Responsive'].replace(['no'], 0)\n",
    "df['Voice Responsive'] = df['Voice Responsive'].replace(['yes'], 1)"
   ]
  },
  {
   "cell_type": "code",
   "execution_count": 238,
   "id": "2cb3bbae",
   "metadata": {},
   "outputs": [],
   "source": [
    "df['Pain Responsive'] = df['Pain Responsive'].replace(['no'], 0)\n",
    "df['Pain Responsive'] = df['Pain Responsive'].replace(['yes'], 1)\n"
   ]
  },
  {
   "cell_type": "code",
   "execution_count": 239,
   "id": "0a3c71c7",
   "metadata": {},
   "outputs": [
    {
     "data": {
      "text/html": [
       "<div>\n",
       "<style scoped>\n",
       "    .dataframe tbody tr th:only-of-type {\n",
       "        vertical-align: middle;\n",
       "    }\n",
       "\n",
       "    .dataframe tbody tr th {\n",
       "        vertical-align: top;\n",
       "    }\n",
       "\n",
       "    .dataframe thead th {\n",
       "        text-align: right;\n",
       "    }\n",
       "</style>\n",
       "<table border=\"1\" class=\"dataframe\">\n",
       "  <thead>\n",
       "    <tr style=\"text-align: right;\">\n",
       "      <th></th>\n",
       "      <th>Age</th>\n",
       "      <th>HBAC</th>\n",
       "      <th>Blood Pressure</th>\n",
       "      <th>Plasma Glucose</th>\n",
       "      <th>Unconscious</th>\n",
       "      <th>Pulse</th>\n",
       "      <th>Cholesterol</th>\n",
       "      <th>Voice Responsive</th>\n",
       "      <th>Pain Responsive</th>\n",
       "      <th>Airway Breathing</th>\n",
       "      <th>Triage Level</th>\n",
       "    </tr>\n",
       "  </thead>\n",
       "  <tbody>\n",
       "    <tr>\n",
       "      <th>0</th>\n",
       "      <td>25</td>\n",
       "      <td>5.9</td>\n",
       "      <td>120</td>\n",
       "      <td>75</td>\n",
       "      <td>1</td>\n",
       "      <td>100</td>\n",
       "      <td>75</td>\n",
       "      <td>1</td>\n",
       "      <td>1</td>\n",
       "      <td>1</td>\n",
       "      <td>2</td>\n",
       "    </tr>\n",
       "    <tr>\n",
       "      <th>1</th>\n",
       "      <td>50</td>\n",
       "      <td>5.7</td>\n",
       "      <td>145</td>\n",
       "      <td>75</td>\n",
       "      <td>0</td>\n",
       "      <td>101</td>\n",
       "      <td>70</td>\n",
       "      <td>1</td>\n",
       "      <td>1</td>\n",
       "      <td>1</td>\n",
       "      <td>3</td>\n",
       "    </tr>\n",
       "    <tr>\n",
       "      <th>2</th>\n",
       "      <td>63</td>\n",
       "      <td>5.8</td>\n",
       "      <td>125</td>\n",
       "      <td>89</td>\n",
       "      <td>1</td>\n",
       "      <td>110</td>\n",
       "      <td>72</td>\n",
       "      <td>1</td>\n",
       "      <td>1</td>\n",
       "      <td>1</td>\n",
       "      <td>2</td>\n",
       "    </tr>\n",
       "    <tr>\n",
       "      <th>3</th>\n",
       "      <td>67</td>\n",
       "      <td>6.7</td>\n",
       "      <td>160</td>\n",
       "      <td>75</td>\n",
       "      <td>0</td>\n",
       "      <td>115</td>\n",
       "      <td>78</td>\n",
       "      <td>0</td>\n",
       "      <td>1</td>\n",
       "      <td>1</td>\n",
       "      <td>4</td>\n",
       "    </tr>\n",
       "    <tr>\n",
       "      <th>4</th>\n",
       "      <td>67</td>\n",
       "      <td>5.9</td>\n",
       "      <td>120</td>\n",
       "      <td>100</td>\n",
       "      <td>0</td>\n",
       "      <td>125</td>\n",
       "      <td>74</td>\n",
       "      <td>0</td>\n",
       "      <td>1</td>\n",
       "      <td>1</td>\n",
       "      <td>1</td>\n",
       "    </tr>\n",
       "  </tbody>\n",
       "</table>\n",
       "</div>"
      ],
      "text/plain": [
       "   Age   HBAC  Blood Pressure  Plasma Glucose  Unconscious  Pulse  \\\n",
       "0    25   5.9             120              75            1    100   \n",
       "1    50   5.7             145              75            0    101   \n",
       "2    63   5.8             125              89            1    110   \n",
       "3    67   6.7             160              75            0    115   \n",
       "4    67   5.9             120             100            0    125   \n",
       "\n",
       "   Cholesterol  Voice Responsive  Pain Responsive  Airway Breathing  \\\n",
       "0           75                 1                1                 1   \n",
       "1           70                 1                1                 1   \n",
       "2           72                 1                1                 1   \n",
       "3           78                 0                1                 1   \n",
       "4           74                 0                1                 1   \n",
       "\n",
       "   Triage Level  \n",
       "0             2  \n",
       "1             3  \n",
       "2             2  \n",
       "3             4  \n",
       "4             1  "
      ]
     },
     "execution_count": 239,
     "metadata": {},
     "output_type": "execute_result"
    }
   ],
   "source": [
    "df.head()"
   ]
  },
  {
   "cell_type": "code",
   "execution_count": 240,
   "id": "4e54f971",
   "metadata": {},
   "outputs": [],
   "source": [
    "X = df.drop('Triage Level', axis=1)\n",
    "y = df['Triage Level']"
   ]
  },
  {
   "cell_type": "code",
   "execution_count": 241,
   "id": "f1b0c8eb",
   "metadata": {},
   "outputs": [],
   "source": [
    "from sklearn.model_selection import train_test_split\n",
    "X_train, X_test, y_train, y_test = train_test_split(X,y,test_size=0.25,random_state=101)"
   ]
  },
  {
   "cell_type": "code",
   "execution_count": 242,
   "id": "86cbd79d",
   "metadata": {},
   "outputs": [],
   "source": [
    "from sklearn.preprocessing import StandardScaler \n",
    "scaler = StandardScaler()\n",
    "scaled_X_train = scaler.fit_transform(X_train)\n",
    "scaled_X_test = scaler.transform(X_test)"
   ]
  },
  {
   "cell_type": "markdown",
   "id": "c95a435f",
   "metadata": {},
   "source": [
    "## Gaussian Naive Bayes"
   ]
  },
  {
   "cell_type": "code",
   "execution_count": 243,
   "id": "db5d7dd5",
   "metadata": {},
   "outputs": [
    {
     "data": {
      "text/plain": [
       "array([3, 1, 1, 0, 1, 2, 4, 1, 0, 1, 1, 0, 3, 1, 2, 1, 2, 0, 0, 3, 0, 1,\n",
       "       2, 1, 1, 3, 1, 1, 3, 3, 4, 1, 2, 3, 0, 0, 0, 0, 1, 1, 1, 1, 3, 2,\n",
       "       0, 0, 1, 0, 1, 2, 2, 0, 0, 0, 0, 3, 1, 0, 2, 1, 1, 1, 1, 0, 1, 3,\n",
       "       1, 3, 1, 3, 1, 1, 1, 3, 1, 0, 1, 2, 2, 1, 1, 3, 3, 3, 1, 1, 1, 0,\n",
       "       0, 3, 1, 1, 0, 1, 3, 1, 1, 2, 3, 2, 0, 1, 3, 4, 3, 0, 3, 3, 3, 0,\n",
       "       4, 0, 1, 3, 0, 1, 1, 2, 2, 3, 0, 0, 1, 1, 1, 0, 3, 1, 0, 0, 3, 0,\n",
       "       3, 3, 4, 2, 0, 0, 3, 2, 1, 1, 1, 3, 1, 0, 3, 1, 0, 3, 0, 3, 1, 2,\n",
       "       3, 0, 4, 0, 3, 1, 2, 3, 2, 0, 1, 3, 0, 1, 0, 1, 1, 3, 0, 1, 1, 0,\n",
       "       3, 0, 2, 0, 0, 1, 3, 3, 2, 4, 3, 3, 0, 2, 1, 1, 3, 1, 1, 0, 0, 3,\n",
       "       2, 3, 1, 0, 1, 0, 1, 0, 1, 0, 2, 1, 1, 1, 3, 1, 1, 0, 3, 2, 4, 2,\n",
       "       3, 1, 0, 1, 3, 3, 2, 2, 3, 2, 3, 0, 1, 3, 0, 0, 3, 0, 3, 2, 2, 3,\n",
       "       3, 1, 0, 2, 1, 2, 0, 3, 3], dtype=int64)"
      ]
     },
     "execution_count": 243,
     "metadata": {},
     "output_type": "execute_result"
    }
   ],
   "source": [
    "from sklearn.naive_bayes import GaussianNB\n",
    "gnb = GaussianNB()\n",
    "gnb.fit(scaled_X_train, y_train)\n",
    "y_pred = gnb.predict(scaled_X_test)\n",
    "y_pred"
   ]
  },
  {
   "cell_type": "code",
   "execution_count": 244,
   "id": "53bd497f",
   "metadata": {},
   "outputs": [],
   "source": [
    "from sklearn.metrics import accuracy_score, classification_report"
   ]
  },
  {
   "cell_type": "code",
   "execution_count": 245,
   "id": "aa8ec57b",
   "metadata": {},
   "outputs": [
    {
     "name": "stdout",
     "output_type": "stream",
     "text": [
      "              precision    recall  f1-score   support\n",
      "\n",
      "           0       0.97      1.00      0.98        62\n",
      "           1       0.46      0.51      0.48        74\n",
      "           2       1.00      1.00      1.00        34\n",
      "           3       0.39      1.00      0.56        24\n",
      "           4       1.00      0.14      0.25        57\n",
      "\n",
      "    accuracy                           0.66       251\n",
      "   macro avg       0.76      0.73      0.65       251\n",
      "weighted avg       0.77      0.66      0.63       251\n",
      "\n"
     ]
    }
   ],
   "source": [
    "print(classification_report(y_test, y_pred));"
   ]
  },
  {
   "cell_type": "code",
   "execution_count": 246,
   "id": "84eaa6a0",
   "metadata": {},
   "outputs": [
    {
     "data": {
      "text/plain": [
       "0.6613545816733067"
      ]
     },
     "execution_count": 246,
     "metadata": {},
     "output_type": "execute_result"
    }
   ],
   "source": [
    "accuracy_score(y_test, y_pred)"
   ]
  },
  {
   "cell_type": "markdown",
   "id": "f00efbca",
   "metadata": {},
   "source": [
    "## Random Forest "
   ]
  },
  {
   "cell_type": "code",
   "execution_count": 247,
   "id": "a9bc34da",
   "metadata": {},
   "outputs": [
    {
     "data": {
      "text/plain": [
       "array([1, 1, 4, 0, 1, 2, 4, 4, 0, 4, 1, 0, 1, 4, 2, 4, 2, 0, 0, 3, 0, 4,\n",
       "       2, 1, 1, 1, 1, 4, 3, 1, 4, 4, 2, 4, 0, 0, 0, 0, 1, 4, 4, 4, 3, 2,\n",
       "       0, 0, 1, 0, 4, 2, 2, 0, 0, 0, 0, 1, 1, 0, 2, 4, 1, 1, 4, 0, 1, 1,\n",
       "       4, 1, 1, 1, 4, 1, 4, 3, 1, 0, 4, 2, 2, 4, 1, 1, 4, 1, 1, 4, 4, 0,\n",
       "       0, 3, 4, 1, 0, 4, 3, 1, 1, 2, 3, 2, 0, 1, 1, 4, 3, 1, 3, 1, 4, 1,\n",
       "       4, 0, 1, 1, 0, 1, 4, 2, 2, 3, 0, 0, 4, 4, 4, 0, 1, 4, 0, 0, 1, 0,\n",
       "       4, 1, 4, 2, 0, 0, 3, 2, 1, 4, 1, 1, 4, 0, 1, 4, 0, 1, 0, 1, 1, 2,\n",
       "       1, 0, 4, 0, 3, 4, 2, 3, 2, 0, 4, 1, 0, 4, 0, 4, 1, 3, 0, 1, 1, 0,\n",
       "       3, 0, 2, 0, 0, 4, 1, 1, 2, 4, 1, 1, 0, 2, 4, 1, 1, 1, 1, 0, 0, 1,\n",
       "       2, 3, 4, 0, 1, 0, 4, 0, 1, 0, 2, 1, 1, 4, 1, 4, 4, 0, 3, 2, 4, 2,\n",
       "       3, 4, 0, 1, 1, 1, 2, 2, 3, 2, 3, 0, 4, 1, 0, 0, 1, 0, 1, 2, 2, 3,\n",
       "       3, 1, 0, 2, 4, 2, 0, 3, 3], dtype=int64)"
      ]
     },
     "execution_count": 247,
     "metadata": {},
     "output_type": "execute_result"
    }
   ],
   "source": [
    "from sklearn.ensemble import RandomForestClassifier\n",
    "rfc = RandomForestClassifier()\n",
    "rfc.fit(X_train, y_train)\n",
    "rfc_pred = rfc.predict(X_test)\n",
    "rfc_pred"
   ]
  },
  {
   "cell_type": "code",
   "execution_count": 248,
   "id": "c443aa98",
   "metadata": {},
   "outputs": [
    {
     "data": {
      "text/plain": [
       "1.0"
      ]
     },
     "execution_count": 248,
     "metadata": {},
     "output_type": "execute_result"
    }
   ],
   "source": [
    "accuracy_score(y_test, rfc_pred)"
   ]
  },
  {
   "cell_type": "code",
   "execution_count": 249,
   "id": "9ac4886a",
   "metadata": {},
   "outputs": [
    {
     "name": "stdout",
     "output_type": "stream",
     "text": [
      "              precision    recall  f1-score   support\n",
      "\n",
      "           0       1.00      1.00      1.00        62\n",
      "           1       1.00      1.00      1.00        74\n",
      "           2       1.00      1.00      1.00        34\n",
      "           3       1.00      1.00      1.00        24\n",
      "           4       1.00      1.00      1.00        57\n",
      "\n",
      "    accuracy                           1.00       251\n",
      "   macro avg       1.00      1.00      1.00       251\n",
      "weighted avg       1.00      1.00      1.00       251\n",
      "\n"
     ]
    }
   ],
   "source": [
    "print(classification_report(y_test, rfc_pred))"
   ]
  },
  {
   "cell_type": "markdown",
   "id": "eae4684b",
   "metadata": {},
   "source": [
    "## XGBoost"
   ]
  },
  {
   "cell_type": "code",
   "execution_count": 250,
   "id": "3762dc4f",
   "metadata": {},
   "outputs": [
    {
     "data": {
      "text/plain": [
       "array([1, 1, 4, 0, 1, 2, 4, 4, 0, 4, 1, 0, 1, 4, 2, 4, 2, 0, 0, 3, 0, 4,\n",
       "       2, 1, 1, 1, 1, 4, 3, 1, 4, 4, 2, 4, 0, 0, 0, 0, 1, 4, 4, 4, 3, 2,\n",
       "       0, 0, 1, 0, 4, 2, 2, 0, 0, 0, 0, 1, 1, 0, 2, 4, 1, 1, 4, 0, 1, 1,\n",
       "       4, 1, 1, 1, 4, 1, 4, 3, 1, 0, 4, 2, 2, 4, 1, 1, 4, 1, 1, 4, 4, 0,\n",
       "       0, 3, 4, 1, 0, 4, 3, 1, 1, 2, 3, 2, 0, 1, 1, 4, 3, 1, 3, 1, 4, 1,\n",
       "       4, 0, 1, 1, 0, 1, 4, 2, 2, 3, 0, 0, 4, 4, 4, 0, 1, 4, 0, 0, 1, 0,\n",
       "       4, 1, 4, 2, 0, 0, 3, 2, 1, 4, 1, 1, 4, 0, 1, 4, 0, 1, 0, 1, 1, 2,\n",
       "       1, 0, 4, 0, 3, 4, 2, 3, 2, 0, 4, 1, 0, 4, 0, 4, 1, 3, 0, 1, 1, 0,\n",
       "       3, 0, 2, 0, 0, 4, 1, 1, 2, 4, 1, 1, 0, 2, 4, 1, 1, 1, 1, 0, 0, 1,\n",
       "       2, 3, 4, 0, 1, 0, 4, 0, 1, 0, 2, 1, 1, 4, 1, 4, 4, 0, 3, 2, 4, 2,\n",
       "       3, 4, 0, 1, 1, 1, 2, 2, 3, 2, 3, 0, 4, 1, 0, 0, 1, 0, 1, 2, 2, 3,\n",
       "       3, 1, 0, 2, 4, 2, 0, 3, 3], dtype=int64)"
      ]
     },
     "execution_count": 250,
     "metadata": {},
     "output_type": "execute_result"
    }
   ],
   "source": [
    "from xgboost import XGBClassifier\n",
    "xgb_model = XGBClassifier()\n",
    "xgb_model.fit(X_train, y_train)\n",
    "xgb_pred = xgb_model.predict(X_test)\n",
    "xgb_pred"
   ]
  },
  {
   "cell_type": "code",
   "execution_count": 251,
   "id": "c2049e65",
   "metadata": {},
   "outputs": [
    {
     "data": {
      "text/plain": [
       "1.0"
      ]
     },
     "execution_count": 251,
     "metadata": {},
     "output_type": "execute_result"
    }
   ],
   "source": [
    "accuracy_score(y_test, xgb_pred)"
   ]
  },
  {
   "cell_type": "code",
   "execution_count": 252,
   "id": "29f2e72c",
   "metadata": {},
   "outputs": [
    {
     "name": "stdout",
     "output_type": "stream",
     "text": [
      "              precision    recall  f1-score   support\n",
      "\n",
      "           0       1.00      1.00      1.00        62\n",
      "           1       1.00      1.00      1.00        74\n",
      "           2       1.00      1.00      1.00        34\n",
      "           3       1.00      1.00      1.00        24\n",
      "           4       1.00      1.00      1.00        57\n",
      "\n",
      "    accuracy                           1.00       251\n",
      "   macro avg       1.00      1.00      1.00       251\n",
      "weighted avg       1.00      1.00      1.00       251\n",
      "\n"
     ]
    }
   ],
   "source": [
    "print(classification_report(y_test, xgb_pred))"
   ]
  },
  {
   "cell_type": "code",
   "execution_count": 253,
   "id": "b2442c5b",
   "metadata": {},
   "outputs": [
    {
     "data": {
      "text/plain": [
       "['gnb_model2.pkl']"
      ]
     },
     "execution_count": 253,
     "metadata": {},
     "output_type": "execute_result"
    }
   ],
   "source": [
    "import joblib\n",
    "joblib.dump(gnb, \"gnb_model2.pkl\")"
   ]
  },
  {
   "cell_type": "code",
   "execution_count": 254,
   "id": "c417e640",
   "metadata": {},
   "outputs": [
    {
     "data": {
      "text/plain": [
       "['rfc_model2.pkl']"
      ]
     },
     "execution_count": 254,
     "metadata": {},
     "output_type": "execute_result"
    }
   ],
   "source": [
    "joblib.dump(rfc, \"rfc_model2.pkl\")"
   ]
  },
  {
   "cell_type": "code",
   "execution_count": 255,
   "id": "4efa52bd",
   "metadata": {},
   "outputs": [
    {
     "data": {
      "text/plain": [
       "['xgb_model2.pkl']"
      ]
     },
     "execution_count": 255,
     "metadata": {},
     "output_type": "execute_result"
    }
   ],
   "source": [
    "joblib.dump(xgb_model, \"xgb_model2.pkl\")"
   ]
  },
  {
   "cell_type": "code",
   "execution_count": 256,
   "id": "39027695",
   "metadata": {},
   "outputs": [
    {
     "data": {
      "text/html": [
       "<div>\n",
       "<style scoped>\n",
       "    .dataframe tbody tr th:only-of-type {\n",
       "        vertical-align: middle;\n",
       "    }\n",
       "\n",
       "    .dataframe tbody tr th {\n",
       "        vertical-align: top;\n",
       "    }\n",
       "\n",
       "    .dataframe thead th {\n",
       "        text-align: right;\n",
       "    }\n",
       "</style>\n",
       "<table border=\"1\" class=\"dataframe\">\n",
       "  <thead>\n",
       "    <tr style=\"text-align: right;\">\n",
       "      <th></th>\n",
       "      <th>Age</th>\n",
       "      <th>HBAC</th>\n",
       "      <th>Blood Pressure</th>\n",
       "      <th>Plasma Glucose</th>\n",
       "      <th>Unconscious</th>\n",
       "      <th>Pulse</th>\n",
       "      <th>Cholesterol</th>\n",
       "      <th>Voice Responsive</th>\n",
       "      <th>Pain Responsive</th>\n",
       "      <th>Airway Breathing</th>\n",
       "      <th>Triage Level</th>\n",
       "    </tr>\n",
       "  </thead>\n",
       "  <tbody>\n",
       "    <tr>\n",
       "      <th>0</th>\n",
       "      <td>25</td>\n",
       "      <td>5.9</td>\n",
       "      <td>120</td>\n",
       "      <td>75</td>\n",
       "      <td>1</td>\n",
       "      <td>100</td>\n",
       "      <td>75</td>\n",
       "      <td>1</td>\n",
       "      <td>1</td>\n",
       "      <td>1</td>\n",
       "      <td>2</td>\n",
       "    </tr>\n",
       "  </tbody>\n",
       "</table>\n",
       "</div>"
      ],
      "text/plain": [
       "   Age   HBAC  Blood Pressure  Plasma Glucose  Unconscious  Pulse  \\\n",
       "0    25   5.9             120              75            1    100   \n",
       "\n",
       "   Cholesterol  Voice Responsive  Pain Responsive  Airway Breathing  \\\n",
       "0           75                 1                1                 1   \n",
       "\n",
       "   Triage Level  \n",
       "0             2  "
      ]
     },
     "execution_count": 256,
     "metadata": {},
     "output_type": "execute_result"
    }
   ],
   "source": [
    "df.head(1)"
   ]
  },
  {
   "cell_type": "code",
   "execution_count": null,
   "id": "cdf8698a",
   "metadata": {},
   "outputs": [],
   "source": []
  }
 ],
 "metadata": {
  "kernelspec": {
   "display_name": "Python 3 (ipykernel)",
   "language": "python",
   "name": "python3"
  },
  "language_info": {
   "codemirror_mode": {
    "name": "ipython",
    "version": 3
   },
   "file_extension": ".py",
   "mimetype": "text/x-python",
   "name": "python",
   "nbconvert_exporter": "python",
   "pygments_lexer": "ipython3",
   "version": "3.9.12"
  }
 },
 "nbformat": 4,
 "nbformat_minor": 5
}
