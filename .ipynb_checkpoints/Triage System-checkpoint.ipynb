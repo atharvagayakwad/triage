{
 "cells": [
  {
   "cell_type": "code",
   "execution_count": 146,
   "id": "9805f0e1",
   "metadata": {},
   "outputs": [],
   "source": [
    "import numpy as np\n",
    "import pandas as pd\n",
    "import matplotlib.pyplot as plt\n",
    "import seaborn as sns"
   ]
  },
  {
   "cell_type": "code",
   "execution_count": 147,
   "id": "9d7c3251",
   "metadata": {},
   "outputs": [],
   "source": [
    "df = pd.read_csv('dataset2.csv')"
   ]
  },
  {
   "cell_type": "code",
   "execution_count": 148,
   "id": "b237fc83",
   "metadata": {},
   "outputs": [
    {
     "data": {
      "text/html": [
       "<div>\n",
       "<style scoped>\n",
       "    .dataframe tbody tr th:only-of-type {\n",
       "        vertical-align: middle;\n",
       "    }\n",
       "\n",
       "    .dataframe tbody tr th {\n",
       "        vertical-align: top;\n",
       "    }\n",
       "\n",
       "    .dataframe thead th {\n",
       "        text-align: right;\n",
       "    }\n",
       "</style>\n",
       "<table border=\"1\" class=\"dataframe\">\n",
       "  <thead>\n",
       "    <tr style=\"text-align: right;\">\n",
       "      <th></th>\n",
       "      <th>Age</th>\n",
       "      <th>Gender</th>\n",
       "      <th>Pulse</th>\n",
       "      <th>B/P</th>\n",
       "      <th>Temperature</th>\n",
       "      <th>Alert</th>\n",
       "      <th>Voice Responsive</th>\n",
       "      <th>Pain Responsive</th>\n",
       "      <th>Unconscious</th>\n",
       "      <th>Airway Breathing</th>\n",
       "      <th>Oxysat</th>\n",
       "      <th>Triage Level</th>\n",
       "    </tr>\n",
       "  </thead>\n",
       "  <tbody>\n",
       "    <tr>\n",
       "      <th>0</th>\n",
       "      <td>63</td>\n",
       "      <td>male</td>\n",
       "      <td>89</td>\n",
       "      <td>125</td>\n",
       "      <td>36.7</td>\n",
       "      <td>yes</td>\n",
       "      <td>2</td>\n",
       "      <td>2</td>\n",
       "      <td>no</td>\n",
       "      <td>IV</td>\n",
       "      <td>96</td>\n",
       "      <td>Triage4</td>\n",
       "    </tr>\n",
       "    <tr>\n",
       "      <th>1</th>\n",
       "      <td>67</td>\n",
       "      <td>male</td>\n",
       "      <td>69</td>\n",
       "      <td>160</td>\n",
       "      <td>36.0</td>\n",
       "      <td>yes</td>\n",
       "      <td>1</td>\n",
       "      <td>3</td>\n",
       "      <td>no</td>\n",
       "      <td>IV</td>\n",
       "      <td>91</td>\n",
       "      <td>Triage4</td>\n",
       "    </tr>\n",
       "    <tr>\n",
       "      <th>2</th>\n",
       "      <td>67</td>\n",
       "      <td>male</td>\n",
       "      <td>100</td>\n",
       "      <td>120</td>\n",
       "      <td>36.8</td>\n",
       "      <td>yes</td>\n",
       "      <td>3</td>\n",
       "      <td>4</td>\n",
       "      <td>no</td>\n",
       "      <td>III</td>\n",
       "      <td>96</td>\n",
       "      <td>Triage4</td>\n",
       "    </tr>\n",
       "    <tr>\n",
       "      <th>3</th>\n",
       "      <td>37</td>\n",
       "      <td>male</td>\n",
       "      <td>123</td>\n",
       "      <td>120</td>\n",
       "      <td>37.3</td>\n",
       "      <td>yes</td>\n",
       "      <td>1</td>\n",
       "      <td>5</td>\n",
       "      <td>no</td>\n",
       "      <td>IV</td>\n",
       "      <td>94</td>\n",
       "      <td>Triage4</td>\n",
       "    </tr>\n",
       "    <tr>\n",
       "      <th>4</th>\n",
       "      <td>41</td>\n",
       "      <td>Female</td>\n",
       "      <td>134</td>\n",
       "      <td>130</td>\n",
       "      <td>37.0</td>\n",
       "      <td>no</td>\n",
       "      <td>4</td>\n",
       "      <td>0</td>\n",
       "      <td>no</td>\n",
       "      <td>II</td>\n",
       "      <td>97</td>\n",
       "      <td>Triage5</td>\n",
       "    </tr>\n",
       "  </tbody>\n",
       "</table>\n",
       "</div>"
      ],
      "text/plain": [
       "   Age  Gender  Pulse  B/P  Temperature Alert  Voice Responsive  \\\n",
       "0   63    male     89  125         36.7   yes                 2   \n",
       "1   67    male     69  160         36.0   yes                 1   \n",
       "2   67    male    100  120         36.8   yes                 3   \n",
       "3   37    male    123  120         37.3   yes                 1   \n",
       "4   41  Female    134  130         37.0    no                 4   \n",
       "\n",
       "   Pain Responsive Unconscious Airway Breathing  Oxysat Triage Level  \n",
       "0                2          no               IV      96      Triage4  \n",
       "1                3          no               IV      91      Triage4  \n",
       "2                4          no              III      96      Triage4  \n",
       "3                5          no               IV      94      Triage4  \n",
       "4                0          no               II      97      Triage5  "
      ]
     },
     "execution_count": 148,
     "metadata": {},
     "output_type": "execute_result"
    }
   ],
   "source": [
    "df.head()"
   ]
  },
  {
   "cell_type": "code",
   "execution_count": 149,
   "id": "ef1cb746",
   "metadata": {},
   "outputs": [
    {
     "data": {
      "text/plain": [
       "(50, 12)"
      ]
     },
     "execution_count": 149,
     "metadata": {},
     "output_type": "execute_result"
    }
   ],
   "source": [
    "df.shape"
   ]
  },
  {
   "cell_type": "code",
   "execution_count": 150,
   "id": "2589e10e",
   "metadata": {},
   "outputs": [
    {
     "name": "stdout",
     "output_type": "stream",
     "text": [
      "<class 'pandas.core.frame.DataFrame'>\n",
      "RangeIndex: 50 entries, 0 to 49\n",
      "Data columns (total 12 columns):\n",
      " #   Column            Non-Null Count  Dtype  \n",
      "---  ------            --------------  -----  \n",
      " 0   Age               50 non-null     int64  \n",
      " 1   Gender            50 non-null     object \n",
      " 2   Pulse             50 non-null     int64  \n",
      " 3   B/P               50 non-null     int64  \n",
      " 4   Temperature       50 non-null     float64\n",
      " 5   Alert             50 non-null     object \n",
      " 6   Voice Responsive  50 non-null     int64  \n",
      " 7   Pain Responsive   50 non-null     int64  \n",
      " 8   Unconscious       50 non-null     object \n",
      " 9   Airway Breathing  50 non-null     object \n",
      " 10  Oxysat            50 non-null     int64  \n",
      " 11  Triage Level      50 non-null     object \n",
      "dtypes: float64(1), int64(6), object(5)\n",
      "memory usage: 4.8+ KB\n"
     ]
    }
   ],
   "source": [
    "df.info()"
   ]
  },
  {
   "cell_type": "code",
   "execution_count": 151,
   "id": "8142a356",
   "metadata": {},
   "outputs": [
    {
     "name": "stdout",
     "output_type": "stream",
     "text": [
      "['yes' 'no']\n"
     ]
    }
   ],
   "source": [
    "print(df['Alert'].unique())"
   ]
  },
  {
   "cell_type": "code",
   "execution_count": 152,
   "id": "e9e7f485",
   "metadata": {},
   "outputs": [
    {
     "name": "stdout",
     "output_type": "stream",
     "text": [
      "['no' 'yes']\n"
     ]
    }
   ],
   "source": [
    "print(df['Unconscious'].unique())"
   ]
  },
  {
   "cell_type": "code",
   "execution_count": 153,
   "id": "4e984b94",
   "metadata": {},
   "outputs": [
    {
     "name": "stdout",
     "output_type": "stream",
     "text": [
      "['IV' 'III' 'II' 'I']\n"
     ]
    }
   ],
   "source": [
    "print(df['Airway Breathing'].unique())"
   ]
  },
  {
   "cell_type": "code",
   "execution_count": 154,
   "id": "524ec342",
   "metadata": {},
   "outputs": [
    {
     "name": "stdout",
     "output_type": "stream",
     "text": [
      "['Triage4' 'Triage5' 'Triage1' 'Triage3' 'Triage2']\n"
     ]
    }
   ],
   "source": [
    "print(df['Triage Level'].unique())"
   ]
  },
  {
   "cell_type": "code",
   "execution_count": 155,
   "id": "50c7f9f3",
   "metadata": {},
   "outputs": [
    {
     "data": {
      "text/html": [
       "<div>\n",
       "<style scoped>\n",
       "    .dataframe tbody tr th:only-of-type {\n",
       "        vertical-align: middle;\n",
       "    }\n",
       "\n",
       "    .dataframe tbody tr th {\n",
       "        vertical-align: top;\n",
       "    }\n",
       "\n",
       "    .dataframe thead th {\n",
       "        text-align: right;\n",
       "    }\n",
       "</style>\n",
       "<table border=\"1\" class=\"dataframe\">\n",
       "  <thead>\n",
       "    <tr style=\"text-align: right;\">\n",
       "      <th></th>\n",
       "      <th>count</th>\n",
       "      <th>mean</th>\n",
       "      <th>std</th>\n",
       "      <th>min</th>\n",
       "      <th>25%</th>\n",
       "      <th>50%</th>\n",
       "      <th>75%</th>\n",
       "      <th>max</th>\n",
       "    </tr>\n",
       "  </thead>\n",
       "  <tbody>\n",
       "    <tr>\n",
       "      <th>Age</th>\n",
       "      <td>50.0</td>\n",
       "      <td>55.320</td>\n",
       "      <td>8.476715</td>\n",
       "      <td>37.0</td>\n",
       "      <td>50.00</td>\n",
       "      <td>57.0</td>\n",
       "      <td>61.00</td>\n",
       "      <td>71.0</td>\n",
       "    </tr>\n",
       "    <tr>\n",
       "      <th>Pulse</th>\n",
       "      <td>50.0</td>\n",
       "      <td>96.520</td>\n",
       "      <td>20.190157</td>\n",
       "      <td>69.0</td>\n",
       "      <td>83.75</td>\n",
       "      <td>91.0</td>\n",
       "      <td>100.75</td>\n",
       "      <td>145.0</td>\n",
       "    </tr>\n",
       "    <tr>\n",
       "      <th>B/P</th>\n",
       "      <td>50.0</td>\n",
       "      <td>131.380</td>\n",
       "      <td>12.772563</td>\n",
       "      <td>110.0</td>\n",
       "      <td>120.00</td>\n",
       "      <td>130.0</td>\n",
       "      <td>140.00</td>\n",
       "      <td>160.0</td>\n",
       "    </tr>\n",
       "    <tr>\n",
       "      <th>Temperature</th>\n",
       "      <td>50.0</td>\n",
       "      <td>36.932</td>\n",
       "      <td>0.579035</td>\n",
       "      <td>36.0</td>\n",
       "      <td>36.50</td>\n",
       "      <td>36.9</td>\n",
       "      <td>37.30</td>\n",
       "      <td>38.1</td>\n",
       "    </tr>\n",
       "    <tr>\n",
       "      <th>Voice Responsive</th>\n",
       "      <td>50.0</td>\n",
       "      <td>2.600</td>\n",
       "      <td>1.641304</td>\n",
       "      <td>0.0</td>\n",
       "      <td>1.00</td>\n",
       "      <td>2.0</td>\n",
       "      <td>4.00</td>\n",
       "      <td>5.0</td>\n",
       "    </tr>\n",
       "    <tr>\n",
       "      <th>Pain Responsive</th>\n",
       "      <td>50.0</td>\n",
       "      <td>3.040</td>\n",
       "      <td>1.484065</td>\n",
       "      <td>0.0</td>\n",
       "      <td>2.00</td>\n",
       "      <td>3.0</td>\n",
       "      <td>4.00</td>\n",
       "      <td>5.0</td>\n",
       "    </tr>\n",
       "    <tr>\n",
       "      <th>Oxysat</th>\n",
       "      <td>50.0</td>\n",
       "      <td>81.140</td>\n",
       "      <td>33.147789</td>\n",
       "      <td>0.0</td>\n",
       "      <td>91.00</td>\n",
       "      <td>94.0</td>\n",
       "      <td>96.00</td>\n",
       "      <td>98.0</td>\n",
       "    </tr>\n",
       "  </tbody>\n",
       "</table>\n",
       "</div>"
      ],
      "text/plain": [
       "                  count     mean        std    min     25%    50%     75%  \\\n",
       "Age                50.0   55.320   8.476715   37.0   50.00   57.0   61.00   \n",
       "Pulse              50.0   96.520  20.190157   69.0   83.75   91.0  100.75   \n",
       "B/P                50.0  131.380  12.772563  110.0  120.00  130.0  140.00   \n",
       "Temperature        50.0   36.932   0.579035   36.0   36.50   36.9   37.30   \n",
       "Voice Responsive   50.0    2.600   1.641304    0.0    1.00    2.0    4.00   \n",
       "Pain Responsive    50.0    3.040   1.484065    0.0    2.00    3.0    4.00   \n",
       "Oxysat             50.0   81.140  33.147789    0.0   91.00   94.0   96.00   \n",
       "\n",
       "                    max  \n",
       "Age                71.0  \n",
       "Pulse             145.0  \n",
       "B/P               160.0  \n",
       "Temperature        38.1  \n",
       "Voice Responsive    5.0  \n",
       "Pain Responsive     5.0  \n",
       "Oxysat             98.0  "
      ]
     },
     "execution_count": 155,
     "metadata": {},
     "output_type": "execute_result"
    }
   ],
   "source": [
    "df.describe().transpose()"
   ]
  },
  {
   "cell_type": "code",
   "execution_count": 156,
   "id": "01a574fe",
   "metadata": {},
   "outputs": [
    {
     "data": {
      "text/plain": [
       "<AxesSubplot:>"
      ]
     },
     "execution_count": 156,
     "metadata": {},
     "output_type": "execute_result"
    },
    {
     "data": {
      "image/png": "[encoded data removed]",
      "text/plain": [
       "<Figure size 1600x800 with 2 Axes>"
      ]
     },
     "metadata": {
      "needs_background": "light"
     },
     "output_type": "display_data"
    }
   ],
   "source": [
    "plt.figure(figsize=(8,4), dpi=200)\n",
    "sns.heatmap(df.corr(), annot=True)"
   ]
  },
  {
   "cell_type": "code",
   "execution_count": 157,
   "id": "3abd292a",
   "metadata": {},
   "outputs": [],
   "source": [
    "df.drop('Gender', axis=1, inplace=True)"
   ]
  },
  {
   "cell_type": "code",
   "execution_count": 158,
   "id": "4f24fab7",
   "metadata": {},
   "outputs": [
    {
     "data": {
      "text/html": [
       "<div>\n",
       "<style scoped>\n",
       "    .dataframe tbody tr th:only-of-type {\n",
       "        vertical-align: middle;\n",
       "    }\n",
       "\n",
       "    .dataframe tbody tr th {\n",
       "        vertical-align: top;\n",
       "    }\n",
       "\n",
       "    .dataframe thead th {\n",
       "        text-align: right;\n",
       "    }\n",
       "</style>\n",
       "<table border=\"1\" class=\"dataframe\">\n",
       "  <thead>\n",
       "    <tr style=\"text-align: right;\">\n",
       "      <th></th>\n",
       "      <th>Age</th>\n",
       "      <th>Pulse</th>\n",
       "      <th>B/P</th>\n",
       "      <th>Temperature</th>\n",
       "      <th>Alert</th>\n",
       "      <th>Voice Responsive</th>\n",
       "      <th>Pain Responsive</th>\n",
       "      <th>Unconscious</th>\n",
       "      <th>Airway Breathing</th>\n",
       "      <th>Oxysat</th>\n",
       "      <th>Triage Level</th>\n",
       "    </tr>\n",
       "  </thead>\n",
       "  <tbody>\n",
       "    <tr>\n",
       "      <th>0</th>\n",
       "      <td>63</td>\n",
       "      <td>89</td>\n",
       "      <td>125</td>\n",
       "      <td>36.7</td>\n",
       "      <td>yes</td>\n",
       "      <td>2</td>\n",
       "      <td>2</td>\n",
       "      <td>no</td>\n",
       "      <td>IV</td>\n",
       "      <td>96</td>\n",
       "      <td>Triage4</td>\n",
       "    </tr>\n",
       "    <tr>\n",
       "      <th>1</th>\n",
       "      <td>67</td>\n",
       "      <td>69</td>\n",
       "      <td>160</td>\n",
       "      <td>36.0</td>\n",
       "      <td>yes</td>\n",
       "      <td>1</td>\n",
       "      <td>3</td>\n",
       "      <td>no</td>\n",
       "      <td>IV</td>\n",
       "      <td>91</td>\n",
       "      <td>Triage4</td>\n",
       "    </tr>\n",
       "    <tr>\n",
       "      <th>2</th>\n",
       "      <td>67</td>\n",
       "      <td>100</td>\n",
       "      <td>120</td>\n",
       "      <td>36.8</td>\n",
       "      <td>yes</td>\n",
       "      <td>3</td>\n",
       "      <td>4</td>\n",
       "      <td>no</td>\n",
       "      <td>III</td>\n",
       "      <td>96</td>\n",
       "      <td>Triage4</td>\n",
       "    </tr>\n",
       "    <tr>\n",
       "      <th>3</th>\n",
       "      <td>37</td>\n",
       "      <td>123</td>\n",
       "      <td>120</td>\n",
       "      <td>37.3</td>\n",
       "      <td>yes</td>\n",
       "      <td>1</td>\n",
       "      <td>5</td>\n",
       "      <td>no</td>\n",
       "      <td>IV</td>\n",
       "      <td>94</td>\n",
       "      <td>Triage4</td>\n",
       "    </tr>\n",
       "    <tr>\n",
       "      <th>4</th>\n",
       "      <td>41</td>\n",
       "      <td>134</td>\n",
       "      <td>130</td>\n",
       "      <td>37.0</td>\n",
       "      <td>no</td>\n",
       "      <td>4</td>\n",
       "      <td>0</td>\n",
       "      <td>no</td>\n",
       "      <td>II</td>\n",
       "      <td>97</td>\n",
       "      <td>Triage5</td>\n",
       "    </tr>\n",
       "  </tbody>\n",
       "</table>\n",
       "</div>"
      ],
      "text/plain": [
       "   Age  Pulse  B/P  Temperature Alert  Voice Responsive  Pain Responsive  \\\n",
       "0   63     89  125         36.7   yes                 2                2   \n",
       "1   67     69  160         36.0   yes                 1                3   \n",
       "2   67    100  120         36.8   yes                 3                4   \n",
       "3   37    123  120         37.3   yes                 1                5   \n",
       "4   41    134  130         37.0    no                 4                0   \n",
       "\n",
       "  Unconscious Airway Breathing  Oxysat Triage Level  \n",
       "0          no               IV      96      Triage4  \n",
       "1          no               IV      91      Triage4  \n",
       "2          no              III      96      Triage4  \n",
       "3          no               IV      94      Triage4  \n",
       "4          no               II      97      Triage5  "
      ]
     },
     "execution_count": 158,
     "metadata": {},
     "output_type": "execute_result"
    }
   ],
   "source": [
    "df.head()"
   ]
  },
  {
   "cell_type": "code",
   "execution_count": 159,
   "id": "e4b61de9",
   "metadata": {},
   "outputs": [
    {
     "data": {
      "text/plain": [
       "False"
      ]
     },
     "execution_count": 159,
     "metadata": {},
     "output_type": "execute_result"
    }
   ],
   "source": [
    "df.isnull().sum().any()"
   ]
  },
  {
   "cell_type": "code",
   "execution_count": 160,
   "id": "346129de",
   "metadata": {},
   "outputs": [],
   "source": [
    "df['Unconscious'] = df['Unconscious'].replace(['no'], 0)\n",
    "df['Unconscious'] = df['Unconscious'].replace(['yes'], 1)"
   ]
  },
  {
   "cell_type": "code",
   "execution_count": 161,
   "id": "e3153f03",
   "metadata": {},
   "outputs": [],
   "source": [
    "df['Alert'] = df['Alert'].replace(['no'], 0)\n",
    "df['Alert'] = df['Alert'].replace(['yes'], 1)"
   ]
  },
  {
   "cell_type": "code",
   "execution_count": 162,
   "id": "17259b57",
   "metadata": {},
   "outputs": [],
   "source": [
    "df['Alert'] = df['Alert'].replace(['no'], 0)\n",
    "df['Alert'] = df['Alert'].replace(['yes'], 1)"
   ]
  },
  {
   "cell_type": "code",
   "execution_count": 163,
   "id": "2cb3bbae",
   "metadata": {},
   "outputs": [],
   "source": [
    "df['Airway Breathing'] = df['Airway Breathing'].replace(['I'], 1)\n",
    "df['Airway Breathing'] = df['Airway Breathing'].replace(['II'], 2)\n",
    "df['Airway Breathing'] = df['Airway Breathing'].replace(['III'], 3)\n",
    "df['Airway Breathing'] = df['Airway Breathing'].replace(['IV'], 4)"
   ]
  },
  {
   "cell_type": "code",
   "execution_count": 164,
   "id": "e182ada0",
   "metadata": {},
   "outputs": [],
   "source": [
    "df['Triage Level'] = df['Triage Level'].replace(['Triage1'], 0)\n",
    "df['Triage Level'] = df['Triage Level'].replace(['Triage2'], 1)\n",
    "df['Triage Level'] = df['Triage Level'].replace(['Triage3'], 2)\n",
    "df['Triage Level'] = df['Triage Level'].replace(['Triage4'], 3)\n",
    "df['Triage Level'] = df['Triage Level'].replace(['Triage5'], 4)"
   ]
  },
  {
   "cell_type": "code",
   "execution_count": 165,
   "id": "0a3c71c7",
   "metadata": {},
   "outputs": [
    {
     "data": {
      "text/html": [
       "<div>\n",
       "<style scoped>\n",
       "    .dataframe tbody tr th:only-of-type {\n",
       "        vertical-align: middle;\n",
       "    }\n",
       "\n",
       "    .dataframe tbody tr th {\n",
       "        vertical-align: top;\n",
       "    }\n",
       "\n",
       "    .dataframe thead th {\n",
       "        text-align: right;\n",
       "    }\n",
       "</style>\n",
       "<table border=\"1\" class=\"dataframe\">\n",
       "  <thead>\n",
       "    <tr style=\"text-align: right;\">\n",
       "      <th></th>\n",
       "      <th>Age</th>\n",
       "      <th>Pulse</th>\n",
       "      <th>B/P</th>\n",
       "      <th>Temperature</th>\n",
       "      <th>Alert</th>\n",
       "      <th>Voice Responsive</th>\n",
       "      <th>Pain Responsive</th>\n",
       "      <th>Unconscious</th>\n",
       "      <th>Airway Breathing</th>\n",
       "      <th>Oxysat</th>\n",
       "      <th>Triage Level</th>\n",
       "    </tr>\n",
       "  </thead>\n",
       "  <tbody>\n",
       "    <tr>\n",
       "      <th>0</th>\n",
       "      <td>63</td>\n",
       "      <td>89</td>\n",
       "      <td>125</td>\n",
       "      <td>36.7</td>\n",
       "      <td>1</td>\n",
       "      <td>2</td>\n",
       "      <td>2</td>\n",
       "      <td>0</td>\n",
       "      <td>4</td>\n",
       "      <td>96</td>\n",
       "      <td>3</td>\n",
       "    </tr>\n",
       "    <tr>\n",
       "      <th>1</th>\n",
       "      <td>67</td>\n",
       "      <td>69</td>\n",
       "      <td>160</td>\n",
       "      <td>36.0</td>\n",
       "      <td>1</td>\n",
       "      <td>1</td>\n",
       "      <td>3</td>\n",
       "      <td>0</td>\n",
       "      <td>4</td>\n",
       "      <td>91</td>\n",
       "      <td>3</td>\n",
       "    </tr>\n",
       "    <tr>\n",
       "      <th>2</th>\n",
       "      <td>67</td>\n",
       "      <td>100</td>\n",
       "      <td>120</td>\n",
       "      <td>36.8</td>\n",
       "      <td>1</td>\n",
       "      <td>3</td>\n",
       "      <td>4</td>\n",
       "      <td>0</td>\n",
       "      <td>3</td>\n",
       "      <td>96</td>\n",
       "      <td>3</td>\n",
       "    </tr>\n",
       "    <tr>\n",
       "      <th>3</th>\n",
       "      <td>37</td>\n",
       "      <td>123</td>\n",
       "      <td>120</td>\n",
       "      <td>37.3</td>\n",
       "      <td>1</td>\n",
       "      <td>1</td>\n",
       "      <td>5</td>\n",
       "      <td>0</td>\n",
       "      <td>4</td>\n",
       "      <td>94</td>\n",
       "      <td>3</td>\n",
       "    </tr>\n",
       "    <tr>\n",
       "      <th>4</th>\n",
       "      <td>41</td>\n",
       "      <td>134</td>\n",
       "      <td>130</td>\n",
       "      <td>37.0</td>\n",
       "      <td>0</td>\n",
       "      <td>4</td>\n",
       "      <td>0</td>\n",
       "      <td>0</td>\n",
       "      <td>2</td>\n",
       "      <td>97</td>\n",
       "      <td>4</td>\n",
       "    </tr>\n",
       "  </tbody>\n",
       "</table>\n",
       "</div>"
      ],
      "text/plain": [
       "   Age  Pulse  B/P  Temperature  Alert  Voice Responsive  Pain Responsive  \\\n",
       "0   63     89  125         36.7      1                 2                2   \n",
       "1   67     69  160         36.0      1                 1                3   \n",
       "2   67    100  120         36.8      1                 3                4   \n",
       "3   37    123  120         37.3      1                 1                5   \n",
       "4   41    134  130         37.0      0                 4                0   \n",
       "\n",
       "   Unconscious  Airway Breathing  Oxysat  Triage Level  \n",
       "0            0                 4      96             3  \n",
       "1            0                 4      91             3  \n",
       "2            0                 3      96             3  \n",
       "3            0                 4      94             3  \n",
       "4            0                 2      97             4  "
      ]
     },
     "execution_count": 165,
     "metadata": {},
     "output_type": "execute_result"
    }
   ],
   "source": [
    "df.head()"
   ]
  },
  {
   "cell_type": "code",
   "execution_count": 166,
   "id": "4e54f971",
   "metadata": {},
   "outputs": [],
   "source": [
    "X = df.drop('Triage Level', axis=1)\n",
    "y = df['Triage Level']"
   ]
  },
  {
   "cell_type": "code",
   "execution_count": 167,
   "id": "f1b0c8eb",
   "metadata": {},
   "outputs": [],
   "source": [
    "from sklearn.model_selection import train_test_split\n",
    "X_train, X_test, y_train, y_test = train_test_split(X,y,test_size=0.25,random_state=101)"
   ]
  },
  {
   "cell_type": "code",
   "execution_count": 168,
   "id": "2502e22d",
   "metadata": {},
   "outputs": [
    {
     "data": {
      "text/plain": [
       "(37, 10)"
      ]
     },
     "execution_count": 168,
     "metadata": {},
     "output_type": "execute_result"
    }
   ],
   "source": [
    "X_train.shape"
   ]
  },
  {
   "cell_type": "code",
   "execution_count": 169,
   "id": "86cbd79d",
   "metadata": {},
   "outputs": [],
   "source": [
    "from sklearn.preprocessing import StandardScaler \n",
    "scaler = StandardScaler()\n",
    "scaled_X_train = scaler.fit_transform(X_train)\n",
    "scaled_X_test = scaler.transform(X_test)"
   ]
  },
  {
   "cell_type": "markdown",
   "id": "c95a435f",
   "metadata": {},
   "source": [
    "## Gaussian Naive Bayes"
   ]
  },
  {
   "cell_type": "code",
   "execution_count": 183,
   "id": "db5d7dd5",
   "metadata": {},
   "outputs": [
    {
     "data": {
      "text/plain": [
       "array([4, 4, 3, 2, 4, 4, 4, 3, 4, 0, 4, 0, 0], dtype=int64)"
      ]
     },
     "execution_count": 183,
     "metadata": {},
     "output_type": "execute_result"
    }
   ],
   "source": [
    "from sklearn.naive_bayes import GaussianNB\n",
    "gnb = GaussianNB()\n",
    "gnb.fit(scaled_X_train, y_train)\n",
    "y_pred = gnb.predict(scaled_X_test)\n",
    "y_pred"
   ]
  },
  {
   "cell_type": "code",
   "execution_count": 172,
   "id": "53bd497f",
   "metadata": {},
   "outputs": [],
   "source": [
    "from sklearn.metrics import accuracy_score, classification_report"
   ]
  },
  {
   "cell_type": "code",
   "execution_count": 173,
   "id": "aa8ec57b",
   "metadata": {},
   "outputs": [
    {
     "name": "stdout",
     "output_type": "stream",
     "text": [
      "              precision    recall  f1-score   support\n",
      "\n",
      "           0       0.00      0.00      0.00         0\n",
      "           1       0.00      0.00      0.00         2\n",
      "           2       1.00      0.33      0.50         3\n",
      "           3       1.00      0.40      0.57         5\n",
      "           4       0.43      1.00      0.60         3\n",
      "\n",
      "    accuracy                           0.46        13\n",
      "   macro avg       0.49      0.35      0.33        13\n",
      "weighted avg       0.71      0.46      0.47        13\n",
      "\n"
     ]
    },
    {
     "name": "stderr",
     "output_type": "stream",
     "text": [
      "C:\\Users\\Admin\\AppData\\Roaming\\Python\\Python39\\site-packages\\sklearn\\metrics\\_classification.py:1248: UndefinedMetricWarning: Precision and F-score are ill-defined and being set to 0.0 in labels with no predicted samples. Use `zero_division` parameter to control this behavior.\n",
      "  _warn_prf(average, modifier, msg_start, len(result))\n",
      "C:\\Users\\Admin\\AppData\\Roaming\\Python\\Python39\\site-packages\\sklearn\\metrics\\_classification.py:1248: UndefinedMetricWarning: Recall and F-score are ill-defined and being set to 0.0 in labels with no true samples. Use `zero_division` parameter to control this behavior.\n",
      "  _warn_prf(average, modifier, msg_start, len(result))\n",
      "C:\\Users\\Admin\\AppData\\Roaming\\Python\\Python39\\site-packages\\sklearn\\metrics\\_classification.py:1248: UndefinedMetricWarning: Precision and F-score are ill-defined and being set to 0.0 in labels with no predicted samples. Use `zero_division` parameter to control this behavior.\n",
      "  _warn_prf(average, modifier, msg_start, len(result))\n",
      "C:\\Users\\Admin\\AppData\\Roaming\\Python\\Python39\\site-packages\\sklearn\\metrics\\_classification.py:1248: UndefinedMetricWarning: Recall and F-score are ill-defined and being set to 0.0 in labels with no true samples. Use `zero_division` parameter to control this behavior.\n",
      "  _warn_prf(average, modifier, msg_start, len(result))\n",
      "C:\\Users\\Admin\\AppData\\Roaming\\Python\\Python39\\site-packages\\sklearn\\metrics\\_classification.py:1248: UndefinedMetricWarning: Precision and F-score are ill-defined and being set to 0.0 in labels with no predicted samples. Use `zero_division` parameter to control this behavior.\n",
      "  _warn_prf(average, modifier, msg_start, len(result))\n",
      "C:\\Users\\Admin\\AppData\\Roaming\\Python\\Python39\\site-packages\\sklearn\\metrics\\_classification.py:1248: UndefinedMetricWarning: Recall and F-score are ill-defined and being set to 0.0 in labels with no true samples. Use `zero_division` parameter to control this behavior.\n",
      "  _warn_prf(average, modifier, msg_start, len(result))\n"
     ]
    }
   ],
   "source": [
    "print(classification_report(y_test, y_pred));"
   ]
  },
  {
   "cell_type": "code",
   "execution_count": 174,
   "id": "84eaa6a0",
   "metadata": {},
   "outputs": [
    {
     "data": {
      "text/plain": [
       "0.46153846153846156"
      ]
     },
     "execution_count": 174,
     "metadata": {},
     "output_type": "execute_result"
    }
   ],
   "source": [
    "accuracy_score(y_test, y_pred)"
   ]
  },
  {
   "cell_type": "markdown",
   "id": "f00efbca",
   "metadata": {},
   "source": [
    "## Random Forest "
   ]
  },
  {
   "cell_type": "code",
   "execution_count": 175,
   "id": "a9bc34da",
   "metadata": {},
   "outputs": [
    {
     "data": {
      "text/plain": [
       "array([4, 3, 3, 3, 2, 4, 4, 3, 4, 0, 3, 0, 0], dtype=int64)"
      ]
     },
     "execution_count": 175,
     "metadata": {},
     "output_type": "execute_result"
    }
   ],
   "source": [
    "from sklearn.ensemble import RandomForestClassifier\n",
    "rfc = RandomForestClassifier()\n",
    "rfc.fit(X_train, y_train)\n",
    "rfc_pred = rfc.predict(X_test)\n",
    "rfc_pred"
   ]
  },
  {
   "cell_type": "code",
   "execution_count": 176,
   "id": "c443aa98",
   "metadata": {},
   "outputs": [
    {
     "data": {
      "text/plain": [
       "0.5384615384615384"
      ]
     },
     "execution_count": 176,
     "metadata": {},
     "output_type": "execute_result"
    }
   ],
   "source": [
    "accuracy_score(y_test, rfc_pred)"
   ]
  },
  {
   "cell_type": "code",
   "execution_count": 177,
   "id": "9ac4886a",
   "metadata": {},
   "outputs": [
    {
     "name": "stdout",
     "output_type": "stream",
     "text": [
      "              precision    recall  f1-score   support\n",
      "\n",
      "           0       0.00      0.00      0.00         0\n",
      "           1       0.00      0.00      0.00         2\n",
      "           2       1.00      0.33      0.50         3\n",
      "           3       0.60      0.60      0.60         5\n",
      "           4       0.75      1.00      0.86         3\n",
      "\n",
      "    accuracy                           0.54        13\n",
      "   macro avg       0.47      0.39      0.39        13\n",
      "weighted avg       0.63      0.54      0.54        13\n",
      "\n"
     ]
    },
    {
     "name": "stderr",
     "output_type": "stream",
     "text": [
      "C:\\Users\\Admin\\AppData\\Roaming\\Python\\Python39\\site-packages\\sklearn\\metrics\\_classification.py:1248: UndefinedMetricWarning: Precision and F-score are ill-defined and being set to 0.0 in labels with no predicted samples. Use `zero_division` parameter to control this behavior.\n",
      "  _warn_prf(average, modifier, msg_start, len(result))\n",
      "C:\\Users\\Admin\\AppData\\Roaming\\Python\\Python39\\site-packages\\sklearn\\metrics\\_classification.py:1248: UndefinedMetricWarning: Recall and F-score are ill-defined and being set to 0.0 in labels with no true samples. Use `zero_division` parameter to control this behavior.\n",
      "  _warn_prf(average, modifier, msg_start, len(result))\n",
      "C:\\Users\\Admin\\AppData\\Roaming\\Python\\Python39\\site-packages\\sklearn\\metrics\\_classification.py:1248: UndefinedMetricWarning: Precision and F-score are ill-defined and being set to 0.0 in labels with no predicted samples. Use `zero_division` parameter to control this behavior.\n",
      "  _warn_prf(average, modifier, msg_start, len(result))\n",
      "C:\\Users\\Admin\\AppData\\Roaming\\Python\\Python39\\site-packages\\sklearn\\metrics\\_classification.py:1248: UndefinedMetricWarning: Recall and F-score are ill-defined and being set to 0.0 in labels with no true samples. Use `zero_division` parameter to control this behavior.\n",
      "  _warn_prf(average, modifier, msg_start, len(result))\n",
      "C:\\Users\\Admin\\AppData\\Roaming\\Python\\Python39\\site-packages\\sklearn\\metrics\\_classification.py:1248: UndefinedMetricWarning: Precision and F-score are ill-defined and being set to 0.0 in labels with no predicted samples. Use `zero_division` parameter to control this behavior.\n",
      "  _warn_prf(average, modifier, msg_start, len(result))\n",
      "C:\\Users\\Admin\\AppData\\Roaming\\Python\\Python39\\site-packages\\sklearn\\metrics\\_classification.py:1248: UndefinedMetricWarning: Recall and F-score are ill-defined and being set to 0.0 in labels with no true samples. Use `zero_division` parameter to control this behavior.\n",
      "  _warn_prf(average, modifier, msg_start, len(result))\n"
     ]
    }
   ],
   "source": [
    "print(classification_report(y_test, rfc_pred))"
   ]
  },
  {
   "cell_type": "markdown",
   "id": "eae4684b",
   "metadata": {},
   "source": [
    "## XGBoost"
   ]
  },
  {
   "cell_type": "code",
   "execution_count": 178,
   "id": "3762dc4f",
   "metadata": {},
   "outputs": [
    {
     "data": {
      "text/plain": [
       "array([4, 3, 3, 3, 2, 3, 4, 3, 3, 0, 4, 0, 0], dtype=int64)"
      ]
     },
     "execution_count": 178,
     "metadata": {},
     "output_type": "execute_result"
    }
   ],
   "source": [
    "from xgboost import XGBClassifier\n",
    "xgb_model = XGBClassifier()\n",
    "xgb_model.fit(X_train, y_train)\n",
    "xgb_pred = xgb_model.predict(X_test)\n",
    "xgb_pred"
   ]
  },
  {
   "cell_type": "code",
   "execution_count": 179,
   "id": "c2049e65",
   "metadata": {},
   "outputs": [
    {
     "data": {
      "text/plain": [
       "0.5384615384615384"
      ]
     },
     "execution_count": 179,
     "metadata": {},
     "output_type": "execute_result"
    }
   ],
   "source": [
    "accuracy_score(y_test, xgb_pred)"
   ]
  },
  {
   "cell_type": "code",
   "execution_count": 180,
   "id": "29f2e72c",
   "metadata": {},
   "outputs": [
    {
     "name": "stdout",
     "output_type": "stream",
     "text": [
      "              precision    recall  f1-score   support\n",
      "\n",
      "           0       0.00      0.00      0.00         0\n",
      "           1       0.00      0.00      0.00         2\n",
      "           2       1.00      0.33      0.50         3\n",
      "           3       0.67      0.80      0.73         5\n",
      "           4       0.67      0.67      0.67         3\n",
      "\n",
      "    accuracy                           0.54        13\n",
      "   macro avg       0.47      0.36      0.38        13\n",
      "weighted avg       0.64      0.54      0.55        13\n",
      "\n"
     ]
    },
    {
     "name": "stderr",
     "output_type": "stream",
     "text": [
      "C:\\Users\\Admin\\AppData\\Roaming\\Python\\Python39\\site-packages\\sklearn\\metrics\\_classification.py:1248: UndefinedMetricWarning: Precision and F-score are ill-defined and being set to 0.0 in labels with no predicted samples. Use `zero_division` parameter to control this behavior.\n",
      "  _warn_prf(average, modifier, msg_start, len(result))\n",
      "C:\\Users\\Admin\\AppData\\Roaming\\Python\\Python39\\site-packages\\sklearn\\metrics\\_classification.py:1248: UndefinedMetricWarning: Recall and F-score are ill-defined and being set to 0.0 in labels with no true samples. Use `zero_division` parameter to control this behavior.\n",
      "  _warn_prf(average, modifier, msg_start, len(result))\n",
      "C:\\Users\\Admin\\AppData\\Roaming\\Python\\Python39\\site-packages\\sklearn\\metrics\\_classification.py:1248: UndefinedMetricWarning: Precision and F-score are ill-defined and being set to 0.0 in labels with no predicted samples. Use `zero_division` parameter to control this behavior.\n",
      "  _warn_prf(average, modifier, msg_start, len(result))\n",
      "C:\\Users\\Admin\\AppData\\Roaming\\Python\\Python39\\site-packages\\sklearn\\metrics\\_classification.py:1248: UndefinedMetricWarning: Recall and F-score are ill-defined and being set to 0.0 in labels with no true samples. Use `zero_division` parameter to control this behavior.\n",
      "  _warn_prf(average, modifier, msg_start, len(result))\n",
      "C:\\Users\\Admin\\AppData\\Roaming\\Python\\Python39\\site-packages\\sklearn\\metrics\\_classification.py:1248: UndefinedMetricWarning: Precision and F-score are ill-defined and being set to 0.0 in labels with no predicted samples. Use `zero_division` parameter to control this behavior.\n",
      "  _warn_prf(average, modifier, msg_start, len(result))\n",
      "C:\\Users\\Admin\\AppData\\Roaming\\Python\\Python39\\site-packages\\sklearn\\metrics\\_classification.py:1248: UndefinedMetricWarning: Recall and F-score are ill-defined and being set to 0.0 in labels with no true samples. Use `zero_division` parameter to control this behavior.\n",
      "  _warn_prf(average, modifier, msg_start, len(result))\n"
     ]
    }
   ],
   "source": [
    "print(classification_report(y_test, xgb_pred))"
   ]
  },
  {
   "cell_type": "code",
   "execution_count": 188,
   "id": "b2442c5b",
   "metadata": {},
   "outputs": [
    {
     "data": {
      "text/plain": [
       "['gnb_model.pkl']"
      ]
     },
     "execution_count": 188,
     "metadata": {},
     "output_type": "execute_result"
    }
   ],
   "source": [
    "import joblib\n",
    "joblib.dump(gnb, \"gnb_model.pkl\")"
   ]
  },
  {
   "cell_type": "code",
   "execution_count": 189,
   "id": "c417e640",
   "metadata": {},
   "outputs": [
    {
     "data": {
      "text/plain": [
       "['rfc_model.pkl']"
      ]
     },
     "execution_count": 189,
     "metadata": {},
     "output_type": "execute_result"
    }
   ],
   "source": [
    "joblib.dump(rfc, \"rfc_model.pkl\")"
   ]
  },
  {
   "cell_type": "code",
   "execution_count": 190,
   "id": "4efa52bd",
   "metadata": {},
   "outputs": [
    {
     "data": {
      "text/plain": [
       "['xgb_model.pkl']"
      ]
     },
     "execution_count": 190,
     "metadata": {},
     "output_type": "execute_result"
    }
   ],
   "source": [
    "joblib.dump(xgb_model, \"xgb_model.pkl\")"
   ]
  },
  {
   "cell_type": "code",
   "execution_count": 191,
   "id": "39027695",
   "metadata": {},
   "outputs": [
    {
     "data": {
      "text/html": [
       "<div>\n",
       "<style scoped>\n",
       "    .dataframe tbody tr th:only-of-type {\n",
       "        vertical-align: middle;\n",
       "    }\n",
       "\n",
       "    .dataframe tbody tr th {\n",
       "        vertical-align: top;\n",
       "    }\n",
       "\n",
       "    .dataframe thead th {\n",
       "        text-align: right;\n",
       "    }\n",
       "</style>\n",
       "<table border=\"1\" class=\"dataframe\">\n",
       "  <thead>\n",
       "    <tr style=\"text-align: right;\">\n",
       "      <th></th>\n",
       "      <th>Age</th>\n",
       "      <th>Pulse</th>\n",
       "      <th>B/P</th>\n",
       "      <th>Temperature</th>\n",
       "      <th>Alert</th>\n",
       "      <th>Voice Responsive</th>\n",
       "      <th>Pain Responsive</th>\n",
       "      <th>Unconscious</th>\n",
       "      <th>Airway Breathing</th>\n",
       "      <th>Oxysat</th>\n",
       "      <th>Triage Level</th>\n",
       "    </tr>\n",
       "  </thead>\n",
       "  <tbody>\n",
       "    <tr>\n",
       "      <th>0</th>\n",
       "      <td>63</td>\n",
       "      <td>89</td>\n",
       "      <td>125</td>\n",
       "      <td>36.7</td>\n",
       "      <td>1</td>\n",
       "      <td>2</td>\n",
       "      <td>2</td>\n",
       "      <td>0</td>\n",
       "      <td>4</td>\n",
       "      <td>96</td>\n",
       "      <td>3</td>\n",
       "    </tr>\n",
       "  </tbody>\n",
       "</table>\n",
       "</div>"
      ],
      "text/plain": [
       "   Age  Pulse  B/P  Temperature  Alert  Voice Responsive  Pain Responsive  \\\n",
       "0   63     89  125         36.7      1                 2                2   \n",
       "\n",
       "   Unconscious  Airway Breathing  Oxysat  Triage Level  \n",
       "0            0                 4      96             3  "
      ]
     },
     "execution_count": 191,
     "metadata": {},
     "output_type": "execute_result"
    }
   ],
   "source": [
    "df.head(1)"
   ]
  },
  {
   "cell_type": "code",
   "execution_count": 196,
   "id": "06583378",
   "metadata": {},
   "outputs": [
    {
     "name": "stdout",
     "output_type": "stream",
     "text": [
      "Triage level of new patient [3]\n"
     ]
    }
   ],
   "source": [
    "print(f\"Triage level of new patient {rfc.predict([[36, 87, 115, 37, 1, 2, 2, 1, 3, 100,]])}\")"
   ]
  },
  {
   "cell_type": "code",
   "execution_count": null,
   "id": "435ae1f5",
   "metadata": {},
   "outputs": [],
   "source": []
  }
 ],
 "metadata": {
  "kernelspec": {
   "display_name": "Python 3 (ipykernel)",
   "language": "python",
   "name": "python3"
  },
  "language_info": {
   "codemirror_mode": {
    "name": "ipython",
    "version": 3
   },
   "file_extension": ".py",
   "mimetype": "text/x-python",
   "name": "python",
   "nbconvert_exporter": "python",
   "pygments_lexer": "ipython3",
   "version": "3.9.12"
  }
 },
 "nbformat": 4,
 "nbformat_minor": 5
}
